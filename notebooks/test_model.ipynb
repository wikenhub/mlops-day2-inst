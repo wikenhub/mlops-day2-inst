{
 "cells": [
  {
   "cell_type": "code",
   "execution_count": null,
   "id": "0",
   "metadata": {},
   "outputs": [],
   "source": [
    "import joblib, pandas as pd, numpy as np\n",
    "\n",
    "# Load model bundle (we saved {\"model\": LogisticRegression, \"preprocess\": optional})\n",
    "bundle = joblib.load(\"/tmp/model.joblib\")\n",
    "model = bundle[\"model\"]\n",
    "\n",
    "# Load processed test split (features already numeric f0..fN + label)\n",
    "df = pd.read_csv(\"/tmp/test.csv\")\n",
    "X = df.drop(columns=[\"label\"]).astype(\"float64\").to_numpy()\n",
    "y = df[\"label\"].astype(\"int64\").to_numpy()\n",
    "\n",
    "proba = model.predict_proba(X[:1])[:, 1][0]\n",
    "pred  = int(proba >= 0.5)\n",
    "print(f\"True label: {y[0]}  |  Pred: {pred}  |  p(churn=1): {proba:.4f}\")"
   ]
  }
 ],
 "metadata": {
  "kernelspec": {
   "display_name": ".venv",
   "language": "python",
   "name": "python3"
  },
  "language_info": {
   "codemirror_mode": {
    "name": "ipython",
    "version": 3
   },
   "file_extension": ".py",
   "mimetype": "text/x-python",
   "name": "python",
   "nbconvert_exporter": "python",
   "pygments_lexer": "ipython3",
   "version": "3.9.23"
  }
 },
 "nbformat": 4,
 "nbformat_minor": 5
}
